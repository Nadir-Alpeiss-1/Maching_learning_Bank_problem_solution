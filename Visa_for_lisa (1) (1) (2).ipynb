{
 "cells": [
  {
   "cell_type": "code",
   "execution_count": 4,
   "id": "582bd51d",
   "metadata": {},
   "outputs": [],
   "source": [
    "'''\n",
    "Data Collecting / Cleaning\n",
    "Data Exploration\n",
    "Data Visualization\n",
    "Machine Learning\n",
    "Communication\n",
    "'''\n",
    "''' \n",
    "1/ ID is irrelevant\n",
    "2/ experience cannot be negative\n",
    "3/ \n",
    "'''\n",
    "\n",
    "import pandas as pd\n",
    "from matplotlib import pyplot as plt\n",
    "import matplotlib.pyplot as mp\n",
    "#univariate\n",
    "from pandas import read_csv\n",
    "from matplotlib import pyplot\n",
    "from numpy import math\n",
    "\n",
    "#multivariate\n",
    "from pandas.plotting import scatter_matrix\n",
    "\n",
    "import zipfile\n",
    "\n",
    "from pandas.plotting import scatter_matrix\n",
    "import numpy as np\n",
    "\n",
    "from sklearn.linear_model import LinearRegression\n",
    "from sklearn.linear_model import LogisticRegression\n",
    "\n",
    "from sklearn.model_selection import train_test_split\n",
    "from sklearn.preprocessing import MinMaxScaler\n",
    "\n",
    "from sklearn.metrics import r2_score\n",
    "from sklearn.metrics import mean_squared_error\n",
    "\n"
   ]
  },
  {
   "cell_type": "code",
   "execution_count": 5,
   "id": "c501b55c",
   "metadata": {},
   "outputs": [
    {
     "name": "stdout",
     "output_type": "stream",
     "text": [
      "Dataset dimension:\n",
      "(5000, 13)\n",
      "\n",
      "First 10 rows of dataset:\n",
      "    Age  Experience  Income  ZIP Code  Family  CCAvg  Education  Mortgage  \\\n",
      "0    25           1      49     91107       4    1.6          1         0   \n",
      "1    45          19      34     90089       3    1.5          1         0   \n",
      "2    39          15      11     94720       1    1.0          1         0   \n",
      "3    35           9     100     94112       1    2.7          2         0   \n",
      "4    35           8      45     91330       4    1.0          2         0   \n",
      "5    37          13      29     92121       4    0.4          2       155   \n",
      "6    53          27      72     91711       2    1.5          2         0   \n",
      "7    50          24      22     93943       1    0.3          3         0   \n",
      "8    35          10      81     90089       3    0.6          2       104   \n",
      "9    34           9     180     93023       1    8.9          3         0   \n",
      "10   65          39     105     94710       4    2.4          3         0   \n",
      "11   29           5      45     90277       3    0.1          2         0   \n",
      "12   48          23     114     93106       2    3.8          3         0   \n",
      "13   59          32      40     94920       4    2.5          2         0   \n",
      "14   67          41     112     91741       1    2.0          1         0   \n",
      "15   60          30      22     95054       1    1.5          3         0   \n",
      "16   38          14     130     95010       4    4.7          3       134   \n",
      "17   42          18      81     94305       4    2.4          1         0   \n",
      "18   46          21     193     91604       2    8.1          3         0   \n",
      "19   55          28      21     94720       1    0.5          2         0   \n",
      "20   56          31      25     94015       4    0.9          2       111   \n",
      "21   57          27      63     90095       3    2.0          3         0   \n",
      "22   29           5      62     90277       1    1.2          1       260   \n",
      "23   44          18      43     91320       2    0.7          1       163   \n",
      "24   36          11     152     95521       2    3.9          1       159   \n",
      "25   43          19      29     94305       3    0.5          1        97   \n",
      "26   40          16      83     95064       4    0.2          3         0   \n",
      "27   46          20     158     90064       1    2.4          1         0   \n",
      "28   56          30      48     94539       1    2.2          3         0   \n",
      "29   38          13     119     94104       1    3.3          2         0   \n",
      "\n",
      "    Personal Loan  Securities Account  CD Account  Online  CreditCard  \n",
      "0               0                   1           0       0           0  \n",
      "1               0                   1           0       0           0  \n",
      "2               0                   0           0       0           0  \n",
      "3               0                   0           0       0           0  \n",
      "4               0                   0           0       0           1  \n",
      "5               0                   0           0       1           0  \n",
      "6               0                   0           0       1           0  \n",
      "7               0                   0           0       0           1  \n",
      "8               0                   0           0       1           0  \n",
      "9               1                   0           0       0           0  \n",
      "10              0                   0           0       0           0  \n",
      "11              0                   0           0       1           0  \n",
      "12              0                   1           0       0           0  \n",
      "13              0                   0           0       1           0  \n",
      "14              0                   1           0       0           0  \n",
      "15              0                   0           0       1           1  \n",
      "16              1                   0           0       0           0  \n",
      "17              0                   0           0       0           0  \n",
      "18              1                   0           0       0           0  \n",
      "19              0                   1           0       0           1  \n",
      "20              0                   0           0       1           0  \n",
      "21              0                   0           0       1           0  \n",
      "22              0                   0           0       1           0  \n",
      "23              0                   1           0       0           0  \n",
      "24              0                   0           0       0           1  \n",
      "25              0                   0           0       1           0  \n",
      "26              0                   0           0       0           0  \n",
      "27              0                   0           0       1           1  \n",
      "28              0                   0           0       1           1  \n",
      "29              1                   0           1       1           1  \n",
      "\n",
      "Statistical summary:\n",
      "               Age   Experience       Income      ZIP Code       Family  \\\n",
      "count  5000.000000  5000.000000  5000.000000   5000.000000  5000.000000   \n",
      "mean     45.338400    20.134600    73.774200  93152.503000     2.396400   \n",
      "std      11.463166    11.415189    46.033729   2121.852197     1.147663   \n",
      "min      23.000000     0.000000     8.000000   9307.000000     1.000000   \n",
      "25%      35.000000    10.000000    39.000000  91911.000000     1.000000   \n",
      "50%      45.000000    20.000000    64.000000  93437.000000     2.000000   \n",
      "75%      55.000000    30.000000    98.000000  94608.000000     3.000000   \n",
      "max      67.000000    43.000000   224.000000  96651.000000     4.000000   \n",
      "\n",
      "             CCAvg    Education     Mortgage  Personal Loan  \\\n",
      "count  5000.000000  5000.000000  5000.000000    5000.000000   \n",
      "mean      1.937938     1.881000    56.498800       0.096000   \n",
      "std       1.747659     0.839869   101.713802       0.294621   \n",
      "min       0.000000     1.000000     0.000000       0.000000   \n",
      "25%       0.700000     1.000000     0.000000       0.000000   \n",
      "50%       1.500000     2.000000     0.000000       0.000000   \n",
      "75%       2.500000     3.000000   101.000000       0.000000   \n",
      "max      10.000000     3.000000   635.000000       1.000000   \n",
      "\n",
      "       Securities Account  CD Account       Online   CreditCard  \n",
      "count         5000.000000  5000.00000  5000.000000  5000.000000  \n",
      "mean             0.104400     0.06040     0.596800     0.294000  \n",
      "std              0.305809     0.23825     0.490589     0.455637  \n",
      "min              0.000000     0.00000     0.000000     0.000000  \n",
      "25%              0.000000     0.00000     0.000000     0.000000  \n",
      "50%              0.000000     0.00000     1.000000     0.000000  \n",
      "75%              0.000000     0.00000     1.000000     1.000000  \n",
      "max              1.000000     1.00000     1.000000     1.000000  \n",
      "Age                     int64\n",
      "Experience              int64\n",
      "Income                  int64\n",
      "ZIP Code                int64\n",
      "Family                  int64\n",
      "CCAvg                 float64\n",
      "Education               int64\n",
      "Mortgage                int64\n",
      "Personal Loan           int64\n",
      "Securities Account      int64\n",
      "CD Account              int64\n",
      "Online                  int64\n",
      "CreditCard              int64\n",
      "dtype: object\n"
     ]
    }
   ],
   "source": [
    "# Loading Dataset\n",
    "\n",
    "def load_dataset():\n",
    "    url = \"Visa_For_Lisa_Loan_Modelling.csv\"\n",
    "    dataset = pd.read_csv(url)\n",
    "    \n",
    "    return dataset\n",
    "\n",
    "dataframe = load_dataset()\n",
    "\n",
    "\n",
    "def clean_dataset(dataset):\n",
    "    del dataset['ID']\n",
    "    #print(dataset[\"Age\"].unique())\n",
    "    #print(dataset[\"Experience\"].unique())  #-1 -2 -3\n",
    "    dataset['Experience'] = dataset['Experience'].abs()\n",
    "    #print(dataset[\"Experience\"].unique())\n",
    "    #print(dataset[\"Income\"].unique())\n",
    "    #print(dataset[\"ZIP Code\"].unique())\n",
    "    #print(dataset[\"Family\"].unique()) # family - is a number of members\n",
    "    #print(dataset[\"CCAvg\"].unique())\n",
    "    #print(dataset[\"Education\"].unique())\n",
    "    #print(dataset[\"Mortgage\"].unique())\n",
    "    #print(dataset[\"Personal Loan\"].unique())\n",
    "    #print(dataset[\"Securities Account\"].unique())\n",
    "    #print(dataset[\"CD Account\"].unique())\n",
    "    #print(dataset[\"Online\"].unique())\n",
    "    #print(dataset[\"CreditCard\"].unique())\n",
    "    \n",
    "    \n",
    "    \n",
    "    # clean experience for negative values\n",
    "    \n",
    "\n",
    "    return dataset\n",
    "\n",
    "clean_dataset(dataframe)\n",
    "\n",
    "\n",
    "def print_summarize_dataset(dataset):\n",
    "    print(\"Dataset dimension:\")\n",
    "    print(dataset.shape)\n",
    "    print()\n",
    "    print(\"First 10 rows of dataset:\")\n",
    "    print(dataset.head(30))\n",
    "    print()\n",
    "    print(\"Statistical summary:\")\n",
    "    print(dataset.describe())\n",
    "    print(dataset.dtypes)\n",
    "\n",
    "print_summarize_dataset(dataframe)\n",
    "\n"
   ]
  },
  {
   "cell_type": "code",
   "execution_count": 7,
   "id": "1ceb78a7",
   "metadata": {
    "scrolled": true
   },
   "outputs": [
    {
     "name": "stdout",
     "output_type": "stream",
     "text": [
      "\n",
      "Histograms\n"
     ]
    },
    {
     "data": {
      "image/png": "[encoded data removed]",
      "text/plain": [
       "<Figure size 864x864 with 16 Axes>"
      ]
     },
     "metadata": {
      "needs_background": "light"
     },
     "output_type": "display_data"
    },
    {
     "name": "stdout",
     "output_type": "stream",
     "text": [
      "Income                0.002385\n",
      "Personal Loan         0.002802\n",
      "Online                0.004210\n",
      "CCAvg                 0.006689\n",
      "Mortgage              0.007231\n",
      "Age                   0.007681\n",
      "ZIP Code              0.007691\n",
      "Experience            0.008851\n",
      "Education             0.011014\n",
      "Family                0.011588\n",
      "Securities Account    0.015028\n",
      "CD Account            0.278644\n",
      "CreditCard            1.000000\n",
      "dtype: float64\n"
     ]
    }
   ],
   "source": [
    "\n",
    "def print_histograms(dataset):\n",
    "    print()\n",
    "    print(\"Histograms\")\n",
    "    dataset.hist(figsize=(12, 12))\n",
    "    plt.show()\n",
    "\n",
    "print_histograms(dataframe)\n",
    "\n",
    "def compute_correlations_matrix(dataset):\n",
    "    corrM = dataset.corr(method = 'pearson')\n",
    "    sorted_mat = corrM.unstack().abs().sort_values()\n",
    "    \n",
    "    return sorted_mat\n",
    "\n",
    "correlations = compute_correlations_matrix(dataframe)\n",
    "print(correlations[\"CreditCard\"])\n",
    "\n"
   ]
  },
  {
   "cell_type": "code",
   "execution_count": null,
   "id": "e3d6f2bc",
   "metadata": {},
   "outputs": [],
   "source": []
  },
  {
   "cell_type": "code",
   "execution_count": 17,
   "id": "9c1ece54",
   "metadata": {},
   "outputs": [],
   "source": [
    "def x_y_value(dataset):\n",
    "    X = dataset.drop(columns = 'CreditCard')\n",
    "    y = dataset['CreditCard']\n",
    "    return X, y\n",
    "\n",
    "X, y = x_y_value(dataframe)\n",
    "\n",
    "    "
   ]
  },
  {
   "cell_type": "code",
   "execution_count": 18,
   "id": "707acfc7",
   "metadata": {},
   "outputs": [
    {
     "data": {
      "text/plain": [
       "\" \\ndef pred(dataset):\\n    reg = linear_model.LinearRegression()\\n    reg.fit(dataset[['CD Account', 'Securities Account', 'Family', 'Educatioxn', 'ZIP Code', 'Age', 'Mortgage']], dataset.CreditCard)\\n    print(reg.coef_)\\n    print(reg.intercept_)\\n\\npred(dataframe)\\n\\n\""
      ]
     },
     "execution_count": 18,
     "metadata": {},
     "output_type": "execute_result"
    }
   ],
   "source": [
    "from sklearn.model_selection import train_test_split\n",
    "from sklearn.preprocessing import StandardScaler\n",
    "\n",
    "\n",
    "\n",
    "\n",
    "''' \n",
    "def pred(dataset):\n",
    "    reg = linear_model.LinearRegression()\n",
    "    reg.fit(dataset[['CD Account', 'Securities Account', 'Family', 'Educatioxn', 'ZIP Code', 'Age', 'Mortgage']], dataset.CreditCard)\n",
    "    print(reg.coef_)\n",
    "    print(reg.intercept_)\n",
    "\n",
    "pred(dataframe)\n",
    "\n",
    "'''"
   ]
  },
  {
   "cell_type": "code",
   "execution_count": 19,
   "id": "4c89e3a1",
   "metadata": {},
   "outputs": [],
   "source": [
    "X_train, X_test, y_train, y_test = train_test_split(X, y, test_size = 0.3, random_state = 21)"
   ]
  },
  {
   "cell_type": "code",
   "execution_count": 20,
   "id": "5db96e47",
   "metadata": {},
   "outputs": [
    {
     "name": "stdout",
     "output_type": "stream",
     "text": [
      "[[-1.51805623 -1.5953678   0.80451857 ... -0.34537466 -0.25772643\n",
      "   0.81649658]\n",
      " [ 1.10570147  1.03928121  0.84746287 ... -0.34537466 -0.25772643\n",
      "  -1.22474487]\n",
      " [ 0.75586711  0.68799468  0.74010212 ... -0.34537466 -0.25772643\n",
      "   0.81649658]\n",
      " ...\n",
      " [ 0.49349134  0.51235141  2.26462487 ...  2.89540636 -0.25772643\n",
      "   0.81649658]\n",
      " [-0.55601174 -0.62932983 -0.33350546 ... -0.34537466 -0.25772643\n",
      "   0.81649658]\n",
      " [ 0.8433257   0.77581631  1.89959829 ... -0.34537466 -0.25772643\n",
      "   0.81649658]]\n"
     ]
    }
   ],
   "source": [
    "def scalling(dataset):\n",
    "    scaler = StandardScaler()\n",
    "    X_train_scaled = scaler.fit_transform(X_train)\n",
    "    X_test_scaled = scaler.transform(X_test)\n",
    "    return X_train_scaled, X_test_scaled\n",
    "\n",
    "X_train_scaled, X_test_scaled = scalling(dataframe)\n",
    "#print(X_train_scaled)\n",
    "print(X_test_scaled)\n"
   ]
  },
  {
   "cell_type": "code",
   "execution_count": 22,
   "id": "7f0c8f84",
   "metadata": {},
   "outputs": [
    {
     "ename": "NameError",
     "evalue": "name 'linear_model' is not defined",
     "output_type": "error",
     "traceback": [
      "\u001b[1;31m---------------------------------------------------------------------------\u001b[0m",
      "\u001b[1;31mNameError\u001b[0m                                 Traceback (most recent call last)",
      "Input \u001b[1;32mIn [22]\u001b[0m, in \u001b[0;36m<cell line: 9>\u001b[1;34m()\u001b[0m\n\u001b[0;32m      6\u001b[0m     acc \u001b[38;5;241m=\u001b[39m log_reg\u001b[38;5;241m.\u001b[39mscore(X_train_scaled, y_train)\n\u001b[0;32m      7\u001b[0m     \u001b[38;5;28;01mreturn\u001b[39;00m y_train, acc\n\u001b[1;32m----> 9\u001b[0m y_train_pred, acc \u001b[38;5;241m=\u001b[39m \u001b[43mpred_train\u001b[49m\u001b[43m(\u001b[49m\u001b[43mdataframe\u001b[49m\u001b[43m)\u001b[49m\n\u001b[0;32m     10\u001b[0m \u001b[38;5;28mprint\u001b[39m(y_train_pred)\n\u001b[0;32m     11\u001b[0m \u001b[38;5;28mprint\u001b[39m(acc)\n",
      "Input \u001b[1;32mIn [22]\u001b[0m, in \u001b[0;36mpred_train\u001b[1;34m(dataset)\u001b[0m\n\u001b[0;32m      1\u001b[0m \u001b[38;5;28;01mdef\u001b[39;00m \u001b[38;5;21mpred_train\u001b[39m(dataset):\n\u001b[1;32m----> 2\u001b[0m     log_reg \u001b[38;5;241m=\u001b[39m \u001b[43mlinear_model\u001b[49m\u001b[38;5;241m.\u001b[39mLinearRegression()\n\u001b[0;32m      3\u001b[0m     log_reg\u001b[38;5;241m.\u001b[39mfit(X_train_scaled, y_train)\n\u001b[0;32m      5\u001b[0m     y_pred \u001b[38;5;241m=\u001b[39m log_reg\u001b[38;5;241m.\u001b[39mpredict(X_train_scaled)\n",
      "\u001b[1;31mNameError\u001b[0m: name 'linear_model' is not defined"
     ]
    }
   ],
   "source": [
    "def pred_train(dataset):\n",
    "    log_reg = linear_model.LinearRegression()\n",
    "    log_reg.fit(X_train_scaled, y_train)\n",
    "    \n",
    "    y_pred = log_reg.predict(X_train_scaled)\n",
    "    acc = log_reg.score(X_train_scaled, y_train)\n",
    "    return y_train, acc\n",
    "\n",
    "y_train_pred, acc = pred_train(dataframe)\n",
    "print(y_train_pred)\n",
    "print(acc)\n"
   ]
  },
  {
   "cell_type": "code",
   "execution_count": null,
   "id": "f0f895ab",
   "metadata": {},
   "outputs": [],
   "source": [
    "def pred_train(dataset):\n",
    "    log_reg = LogisticRegression(random_state = 0).fit(X_train_scaled, y_train)\n",
    "    y_train_pred = log_reg.predict(X_train_scaled)\n",
    "    acc = log_reg.score(X_train_scaled, y_train)\n",
    "    return y_train, acc\n",
    "\n",
    "y_train_pred, acc = pred_train(dataframe)\n",
    "print(y_train_pred)\n",
    "print(acc)"
   ]
  },
  {
   "cell_type": "code",
   "execution_count": 43,
   "id": "70a63e6a",
   "metadata": {},
   "outputs": [
    {
     "name": "stdout",
     "output_type": "stream",
     "text": [
      "0.752\n"
     ]
    }
   ],
   "source": [
    "def pred_test(dataset):\n",
    "    log_reg = LogisticRegression(random_state = 0).fit(X_test_scaled, y_test)\n",
    "    y_test_pred = log_reg.predict(X_test_scaled)\n",
    "    acc1 = log_reg.score(X_test_scaled, y_test)\n",
    "    return y_test, acc1\n",
    "\n",
    "y_test_pred, acc1 = pred_test(dataframe)\n",
    "#print(y_test_pred)\n",
    "print(acc1)"
   ]
  },
  {
   "cell_type": "code",
   "execution_count": 45,
   "id": "ffb9565d",
   "metadata": {},
   "outputs": [
    {
     "ename": "TypeError",
     "evalue": "fit() missing 1 required positional argument: 'y'",
     "output_type": "error",
     "traceback": [
      "\u001b[1;31m---------------------------------------------------------------------------\u001b[0m",
      "\u001b[1;31mTypeError\u001b[0m                                 Traceback (most recent call last)",
      "Input \u001b[1;32mIn [45]\u001b[0m, in \u001b[0;36m<cell line: 9>\u001b[1;34m()\u001b[0m\n\u001b[0;32m      6\u001b[0m     acc \u001b[38;5;241m=\u001b[39m log_reg\u001b[38;5;241m.\u001b[39mscore(X_train_scaled, y_train)\n\u001b[0;32m      7\u001b[0m     \u001b[38;5;28;01mreturn\u001b[39;00m y_train, acc\n\u001b[1;32m----> 9\u001b[0m y_train_pred, acc \u001b[38;5;241m=\u001b[39m \u001b[43mpred_train\u001b[49m\u001b[43m(\u001b[49m\u001b[43mdataframe\u001b[49m\u001b[43m)\u001b[49m\n\u001b[0;32m     10\u001b[0m \u001b[38;5;28mprint\u001b[39m(y_train_pred)\n\u001b[0;32m     11\u001b[0m \u001b[38;5;28mprint\u001b[39m(acc)\n",
      "Input \u001b[1;32mIn [45]\u001b[0m, in \u001b[0;36mpred_train\u001b[1;34m(dataset)\u001b[0m\n\u001b[0;32m      3\u001b[0m \u001b[38;5;28;01mdef\u001b[39;00m \u001b[38;5;21mpred_train\u001b[39m(dataset):\n\u001b[1;32m----> 4\u001b[0m     log_reg \u001b[38;5;241m=\u001b[39m \u001b[43mLinearRegression\u001b[49m\u001b[38;5;241;43m.\u001b[39;49m\u001b[43mfit\u001b[49m\u001b[43m(\u001b[49m\u001b[43mX_train_scaled\u001b[49m\u001b[43m,\u001b[49m\u001b[43m \u001b[49m\u001b[43my_train\u001b[49m\u001b[43m)\u001b[49m\n\u001b[0;32m      5\u001b[0m     y_train_pred \u001b[38;5;241m=\u001b[39m log_reg\u001b[38;5;241m.\u001b[39mpredict(X_train_scaled)\n\u001b[0;32m      6\u001b[0m     acc \u001b[38;5;241m=\u001b[39m log_reg\u001b[38;5;241m.\u001b[39mscore(X_train_scaled, y_train)\n",
      "\u001b[1;31mTypeError\u001b[0m: fit() missing 1 required positional argument: 'y'"
     ]
    }
   ],
   "source": [
    "# Linear Regression\n",
    "\n",
    "def pred_train(dataset):\n",
    "    LR = LinearRegression()\n",
    "    LR.fit(x_train,y_train)\n",
    "    log_reg = LinearRegression.fit(X_train_scaled, y_train)\n",
    "    y_train_pred = log_reg.predict(X_train_scaled)\n",
    "    acc = log_reg.score(X_train_scaled, y_train)\n",
    "    return y_train, acc\n",
    "\n",
    "y_train_pred, acc = pred_train(dataframe)\n",
    "print(y_train_pred)\n",
    "print(acc)"
   ]
  },
  {
   "cell_type": "code",
   "execution_count": null,
   "id": "97649b70",
   "metadata": {},
   "outputs": [],
   "source": [
    "# Linear Regression\n",
    "\n",
    "def pred_test(dataset):\n",
    "    log_reg = LogisticRegression(random_state = 0).fit(X_test_scaled, y_test)\n",
    "    y_test_pred = log_reg.predict(X_test_scaled)\n",
    "    acc1 = log_reg.score(X_test_scaled, y_test)\n",
    "    return y_test, acc1\n",
    "\n",
    "y_test_pred, acc1 = pred_test(dataframe)\n",
    "#print(y_test_pred)\n",
    "print(acc1)"
   ]
  },
  {
   "cell_type": "code",
   "execution_count": null,
   "id": "d2b65b03",
   "metadata": {},
   "outputs": [],
   "source": [
    "def pred(dataset):\n",
    "    dep_var = 'CreditCard'\n",
    "    #indep_var = dataset.columns.tolist()\n",
    "    #indep_var = ['CD Account', 'Securities Account', 'Family', 'Education']\n",
    "    indep_var = ['Family', 'Education']\n",
    "    #indep_var.remove(dep_var)\n",
    "    #print(indep_var)\n",
    "    X = dataset[indep_var].values\n",
    "    y = dataset[dep_var].values\n",
    "    \n",
    "    \n",
    "    X_train, X_test, y_train, y_test = train_test_split(X, y, test_size = 0.2, random_state = 0)\n",
    "    \n",
    "    scaler = MinMaxScaler()\n",
    "    X_train = scaler.fit_transform(X_train)\n",
    "    X_test = scaler.transform(X_test)\n",
    "    \n",
    "    \n",
    "    regressor = LinearRegression()\n",
    "    regressor.fit(X_train, y_train)\n",
    "    \n",
    "    \n",
    "    #print(X_train[:10])\n",
    "    \n",
    "    y_pred = regressor.predict(X_test)\n",
    "    math.sqrt(mean_squared_error(y_test, y_pred))\n",
    "    \n",
    "    print(math.sqrt(mean_squared_error(y_test, y_pred)))\n",
    "    \n",
    "    print(r2_score(y_test, y_pred))\n",
    "    \n",
    "    plt.figure(figsize = (15,10))\n",
    "    plt.scatter(y_test, y_pred)\n",
    "    plt.xlabel('Actual')\n",
    "    plt.ylabel('Predicted')\n",
    "    plt.title('Actual vs Predicted')\n",
    "    \n",
    "    \n",
    "pred(dataframe)"
   ]
  },
  {
   "cell_type": "code",
   "execution_count": 7,
   "id": "09f1d3a8",
   "metadata": {},
   "outputs": [
    {
     "ename": "IndentationError",
     "evalue": "expected an indented block (623651604.py, line 2)",
     "output_type": "error",
     "traceback": [
      "\u001b[1;36m  Input \u001b[1;32mIn [7]\u001b[1;36m\u001b[0m\n\u001b[1;33m    \u001b[0m\n\u001b[1;37m    ^\u001b[0m\n\u001b[1;31mIndentationError\u001b[0m\u001b[1;31m:\u001b[0m expected an indented block\n"
     ]
    }
   ],
   "source": [
    "def print_results(dataset):\n",
    "    "
   ]
  },
  {
   "cell_type": "code",
   "execution_count": 6,
   "id": "288ff4e5",
   "metadata": {},
   "outputs": [
    {
     "name": "stdout",
     "output_type": "stream",
     "text": [
      "[0.87804516]\n"
     ]
    },
    {
     "name": "stderr",
     "output_type": "stream",
     "text": [
      "C:\\Users\\n.alpeissov\\Anaconda3\\lib\\site-packages\\sklearn\\base.py:450: UserWarning: X does not have valid feature names, but LinearRegression was fitted with feature names\n",
      "  warnings.warn(\n"
     ]
    },
    {
     "data": {
      "text/plain": [
       "' \\ndef print_scatter_matrix(dataset):\\n    print(\"Scatter Matrix\")\\n    scatter_matrix(dataset, figsize=(15, 15))\\n    plt.show()\\n\\nprint_scatter_matrix(dataframe)\\n'"
      ]
     },
     "execution_count": 6,
     "metadata": {},
     "output_type": "execute_result"
    }
   ],
   "source": [
    "from sklearn import linear_model\n",
    "\n",
    "def prediction(dataset):\n",
    "    X = dataset[['CD Account', 'Securities Account']]\n",
    "    y = dataset['CreditCard']\n",
    "\n",
    "    regr = linear_model.LinearRegression()\n",
    "    regr.fit(X, y)\n",
    "\n",
    "    predictedCO2 = regr.predict([[1, 0]])\n",
    "\n",
    "    print(predictedCO2)\n",
    "\n",
    "prediction(dataframe)\n",
    "\n",
    "''' \n",
    "def two_var_plot(dataset): #function for plotting two variables graphs\n",
    "    v2 = 'CreditCard'\n",
    "    ax = plt.gca()\n",
    "    \n",
    "    #df = pd.DataFrame(columns=['RM', v2])\n",
    "    \n",
    "    dataset.plot( x = 'CD Account' , y = v2, ax = ax )\n",
    "    #dataset.plot( x = 'Securities Account' , y = v2 , ax = ax )\n",
    "    \n",
    "    \n",
    "    \n",
    "    \n",
    "    #df = pd.DataFrame(columns=['LSTAT', v2])\n",
    "    ax1 = dataset.plot.scatter(x='Securities Account', y=v2, c='Blue') \n",
    "    mp.show()\n",
    "    \n",
    "    #df = pd.DataFrame(columns=['AGE', v2])\n",
    "    ax1 = dataset.plot.scatter(x='Family', y=v2, c='Blue') \n",
    "    mp.show()\n",
    "    \n",
    "    #df = pd.DataFrame(columns=['CRIM', v2])\n",
    "    ax1 = dataset.plot.scatter(x='Education', y=v2, c='Blue') \n",
    "    mp.show()\n",
    "    \n",
    "two_var_plot(dataframe)\n",
    "'''\n",
    "\n",
    "\n",
    "\n",
    "''' \n",
    "def print_scatter_matrix(dataset):\n",
    "    print(\"Scatter Matrix\")\n",
    "    scatter_matrix(dataset, figsize=(15, 15))\n",
    "    plt.show()\n",
    "\n",
    "print_scatter_matrix(dataframe)\n",
    "'''"
   ]
  },
  {
   "cell_type": "code",
   "execution_count": null,
   "id": "1405afa7",
   "metadata": {},
   "outputs": [],
   "source": []
  },
  {
   "cell_type": "code",
   "execution_count": null,
   "id": "5c18f3ae",
   "metadata": {},
   "outputs": [],
   "source": [
    "'''\n",
    "correlation of creditcard and other parameters by abs values\n",
    "CD Account\n",
    "Securities Account\n",
    "Family \n",
    "Education \n",
    "Experience\n",
    "ZIP Code\n",
    "Age\n",
    "Mortgage\n",
    "CCAvg \n",
    "\n",
    "Online \n",
    "Personal Loan \n",
    "Income  \n",
    "'''"
   ]
  },
  {
   "cell_type": "code",
   "execution_count": null,
   "id": "9f96998f",
   "metadata": {},
   "outputs": [],
   "source": [
    "''' \n",
    "of its deposit customers to become personal loan customers (while retaining them as depositors). \n",
    "In short, they want to upsell customers to purchase more banking products from Galaxy Bank.\n",
    "'''"
   ]
  },
  {
   "cell_type": "code",
   "execution_count": null,
   "id": "098b022d",
   "metadata": {},
   "outputs": [],
   "source": [
    "'''\n",
    "https://www.w3schools.com/python/python_ml_multiple_regression.asp\n",
    "https://datatofish.com/multiple-linear-regression-python/\n",
    "https://www.analyticsvidhya.com/blog/2022/03/multiple-linear-regression-using-python/\n",
    "https://www.analyticsvidhya.com/blog/2021/05/multiple-linear-regression-using-python-and-scikit-learn/\n",
    "https://www.geeksforgeeks.org/ml-multiple-linear-regression-using-python/\n",
    "\n",
    "'''"
   ]
  },
  {
   "cell_type": "markdown",
   "id": "f2c10b0e",
   "metadata": {},
   "source": [
    "# New Try"
   ]
  },
  {
   "cell_type": "code",
   "execution_count": 1,
   "id": "9b1a2dee",
   "metadata": {},
   "outputs": [
    {
     "ename": "NameError",
     "evalue": "name 'model' is not defined",
     "output_type": "error",
     "traceback": [
      "\u001b[1;31m---------------------------------------------------------------------------\u001b[0m",
      "\u001b[1;31mNameError\u001b[0m                                 Traceback (most recent call last)",
      "Input \u001b[1;32mIn [1]\u001b[0m, in \u001b[0;36m<cell line: 1>\u001b[1;34m()\u001b[0m\n\u001b[1;32m----> 1\u001b[0m results \u001b[38;5;241m=\u001b[39m \u001b[43mmodel\u001b[49m\u001b[38;5;241m.\u001b[39mfit()\n\u001b[0;32m      2\u001b[0m \u001b[38;5;28mprint\u001b[39m(results\u001b[38;5;241m.\u001b[39msummary())\n",
      "\u001b[1;31mNameError\u001b[0m: name 'model' is not defined"
     ]
    }
   ],
   "source": [
    "results = model.fit()\n",
    "\n",
    "print(results.summary())"
   ]
  },
  {
   "cell_type": "code",
   "execution_count": 4,
   "id": "05e9358b",
   "metadata": {},
   "outputs": [],
   "source": [
    "import pandas as pd\n",
    "# Loading Dataset\n",
    "\n",
    "def load_dataset():\n",
    "    url = \"Visa_For_Lisa_Loan_Modelling.csv\"\n",
    "    dataset = pd.read_csv(url)\n",
    "    \n",
    "    return dataset\n",
    "\n",
    "dataframe = load_dataset()\n"
   ]
  },
  {
   "cell_type": "code",
   "execution_count": 5,
   "id": "8654d181",
   "metadata": {},
   "outputs": [],
   "source": [
    "def x_y_value(dataset):\n",
    "    X = dataset.drop(columns = 'CreditCard')\n",
    "    y = dataset['CreditCard']\n",
    "    return X, y\n",
    "\n",
    "X, y = x_y_value(dataframe)"
   ]
  },
  {
   "cell_type": "code",
   "execution_count": 2,
   "id": "13875fc2",
   "metadata": {},
   "outputs": [],
   "source": [
    "from sklearn.linear_model import LinearRegression\n"
   ]
  },
  {
   "cell_type": "code",
   "execution_count": 11,
   "id": "f1fd564a",
   "metadata": {},
   "outputs": [
    {
     "ename": "AttributeError",
     "evalue": "'DataFrame' object has no attribute 'get_dummies'",
     "output_type": "error",
     "traceback": [
      "\u001b[1;31m---------------------------------------------------------------------------\u001b[0m",
      "\u001b[1;31mAttributeError\u001b[0m                            Traceback (most recent call last)",
      "Input \u001b[1;32mIn [11]\u001b[0m, in \u001b[0;36m<cell line: 16>\u001b[1;34m()\u001b[0m\n\u001b[0;32m     13\u001b[0m     \u001b[38;5;28mprint\u001b[39m(mlr\u001b[38;5;241m.\u001b[39mcoef_)\n\u001b[0;32m     14\u001b[0m     \u001b[38;5;66;03m# [ 5.97694123 19.37771052]\u001b[39;00m\n\u001b[1;32m---> 16\u001b[0m \u001b[43mlinear\u001b[49m\u001b[43m(\u001b[49m\u001b[43mdataframe\u001b[49m\u001b[43m)\u001b[49m\n",
      "Input \u001b[1;32mIn [11]\u001b[0m, in \u001b[0;36mlinear\u001b[1;34m(dataset)\u001b[0m\n\u001b[0;32m      1\u001b[0m \u001b[38;5;28;01mdef\u001b[39;00m \u001b[38;5;21mlinear\u001b[39m(dataset):\n\u001b[0;32m      2\u001b[0m     \u001b[38;5;66;03m# create linear regression object\u001b[39;00m\n\u001b[0;32m      3\u001b[0m     mlr \u001b[38;5;241m=\u001b[39m LinearRegression()\n\u001b[1;32m----> 4\u001b[0m     \u001b[38;5;28mprint\u001b[39m(\u001b[43mdataset\u001b[49m\u001b[38;5;241;43m.\u001b[39;49m\u001b[43mget_dummies\u001b[49m())\n\u001b[0;32m      6\u001b[0m     \u001b[38;5;66;03m# fit linear regression\u001b[39;00m\n\u001b[0;32m      7\u001b[0m     mlr\u001b[38;5;241m.\u001b[39mfit(dataset_dummy[[X]], dataset_dummy[y])\n",
      "File \u001b[1;32m~\\Anaconda3\\lib\\site-packages\\pandas\\core\\generic.py:5575\u001b[0m, in \u001b[0;36mNDFrame.__getattr__\u001b[1;34m(self, name)\u001b[0m\n\u001b[0;32m   5568\u001b[0m \u001b[38;5;28;01mif\u001b[39;00m (\n\u001b[0;32m   5569\u001b[0m     name \u001b[38;5;129;01mnot\u001b[39;00m \u001b[38;5;129;01min\u001b[39;00m \u001b[38;5;28mself\u001b[39m\u001b[38;5;241m.\u001b[39m_internal_names_set\n\u001b[0;32m   5570\u001b[0m     \u001b[38;5;129;01mand\u001b[39;00m name \u001b[38;5;129;01mnot\u001b[39;00m \u001b[38;5;129;01min\u001b[39;00m \u001b[38;5;28mself\u001b[39m\u001b[38;5;241m.\u001b[39m_metadata\n\u001b[0;32m   5571\u001b[0m     \u001b[38;5;129;01mand\u001b[39;00m name \u001b[38;5;129;01mnot\u001b[39;00m \u001b[38;5;129;01min\u001b[39;00m \u001b[38;5;28mself\u001b[39m\u001b[38;5;241m.\u001b[39m_accessors\n\u001b[0;32m   5572\u001b[0m     \u001b[38;5;129;01mand\u001b[39;00m \u001b[38;5;28mself\u001b[39m\u001b[38;5;241m.\u001b[39m_info_axis\u001b[38;5;241m.\u001b[39m_can_hold_identifiers_and_holds_name(name)\n\u001b[0;32m   5573\u001b[0m ):\n\u001b[0;32m   5574\u001b[0m     \u001b[38;5;28;01mreturn\u001b[39;00m \u001b[38;5;28mself\u001b[39m[name]\n\u001b[1;32m-> 5575\u001b[0m \u001b[38;5;28;01mreturn\u001b[39;00m \u001b[38;5;28;43mobject\u001b[39;49m\u001b[38;5;241;43m.\u001b[39;49m\u001b[38;5;21;43m__getattribute__\u001b[39;49m\u001b[43m(\u001b[49m\u001b[38;5;28;43mself\u001b[39;49m\u001b[43m,\u001b[49m\u001b[43m \u001b[49m\u001b[43mname\u001b[49m\u001b[43m)\u001b[49m\n",
      "\u001b[1;31mAttributeError\u001b[0m: 'DataFrame' object has no attribute 'get_dummies'"
     ]
    }
   ],
   "source": [
    "def linear(dataset):\n",
    "    reg = linear_model.Linear\n",
    "    \n",
    "    \n",
    "linear(dataframe)"
   ]
  },
  {
   "cell_type": "code",
   "execution_count": null,
   "id": "814df852",
   "metadata": {},
   "outputs": [],
   "source": []
  }
 ],
 "metadata": {
  "kernelspec": {
   "display_name": "Python 3 (ipykernel)",
   "language": "python",
   "name": "python3"
  },
  "language_info": {
   "codemirror_mode": {
    "name": "ipython",
    "version": 3
   },
   "file_extension": ".py",
   "mimetype": "text/x-python",
   "name": "python",
   "nbconvert_exporter": "python",
   "pygments_lexer": "ipython3",
   "version": "3.9.12"
  }
 },
 "nbformat": 4,
 "nbformat_minor": 5
}
